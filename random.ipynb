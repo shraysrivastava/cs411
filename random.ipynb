{
 "cells": [
  {
   "cell_type": "code",
   "execution_count": 38,
   "metadata": {},
   "outputs": [],
   "source": [
    "import requests\n",
    "import pandas as pd\n",
    "import html\n",
    "import random\n",
    "import time\n",
    "from requests.exceptions import RequestException\n",
    "\n",
    "question_counter = 1  # Global question_id\n",
    "\n",
    "def fetch_questions(api_url: str, category_id: int, master_df: pd.DataFrame = None, max_retries: int = 5):\n",
    "    global question_counter\n",
    "    retries = 0\n",
    "    wait_time = 5  # seconds\n",
    "\n",
    "    while retries < max_retries:\n",
    "        try:\n",
    "            response = requests.get(api_url, timeout=10)\n",
    "            response.raise_for_status()\n",
    "\n",
    "            data = response.json()\n",
    "            if data.get('response_code') != 0:\n",
    "                print(f\"[WARNING] API returned response_code {data.get('response_code')}. Skipping.\")\n",
    "                return master_df if master_df is not None else pd.DataFrame()\n",
    "            break  # Success, exit retry loop\n",
    "\n",
    "        except requests.exceptions.HTTPError as http_err:\n",
    "            if response.status_code == 429:\n",
    "                print(f\"[WARNING] Rate limit hit (429). Waiting {wait_time} seconds before retrying...\")\n",
    "                time.sleep(wait_time)\n",
    "                retries += 1\n",
    "                wait_time *= 2  # exponential backoff\n",
    "                continue\n",
    "            else:\n",
    "                print(f\"[ERROR] HTTP error occurred: {http_err}\")\n",
    "                return master_df if master_df is not None else pd.DataFrame()\n",
    "\n",
    "        except RequestException as req_err:\n",
    "            print(f\"[ERROR] Request failed: {req_err}\")\n",
    "            return master_df if master_df is not None else pd.DataFrame()\n",
    "\n",
    "        except ValueError:\n",
    "            print(\"[ERROR] Failed to parse JSON.\")\n",
    "            return master_df if master_df is not None else pd.DataFrame()\n",
    "\n",
    "    else:\n",
    "        print(\"[ERROR] Max retries exceeded.\")\n",
    "        return master_df if master_df is not None else pd.DataFrame()\n",
    "\n",
    "    rows = []\n",
    "\n",
    "    for i, item in enumerate(data.get('results', [])):\n",
    "        try:\n",
    "            question_text = html.unescape(item['question']).strip()\n",
    "            correct_answer = html.unescape(item['correct_answer']).strip()\n",
    "            incorrect_answers = [html.unescape(ans).strip() for ans in item['incorrect_answers']]\n",
    "\n",
    "            if not question_text or not correct_answer or len(incorrect_answers) != 3:\n",
    "                print(f\"[SKIP] Invalid question at index {i}\")\n",
    "                continue\n",
    "\n",
    "            options = incorrect_answers.copy()\n",
    "            options.insert(random.randint(0, 3), correct_answer)\n",
    "\n",
    "            row = {\n",
    "                'question_id': question_counter,\n",
    "                'question_text': question_text,\n",
    "                'correct_answer': correct_answer,\n",
    "                'option1': options[0],\n",
    "                'option2': options[1],\n",
    "                'option3': options[2],\n",
    "                'category_id': category_id,\n",
    "                'difficulty': item['difficulty']\n",
    "            }\n",
    "\n",
    "            rows.append(row)\n",
    "            question_counter += 1\n",
    "\n",
    "        except Exception as e:\n",
    "            print(f\"[ERROR] Failed to process question at index {i}: {e}\")\n",
    "            continue\n",
    "\n",
    "    new_df = pd.DataFrame(rows)\n",
    "\n",
    "    if master_df is not None:\n",
    "        combined_df = pd.concat([master_df, new_df], ignore_index=True)\n",
    "        combined_df.drop_duplicates(subset=['question_text'], inplace=True)\n",
    "        return combined_df\n",
    "    else:\n",
    "        return new_df\n"
   ]
  },
  {
   "cell_type": "code",
   "execution_count": 39,
   "metadata": {},
   "outputs": [],
   "source": [
    "# Initialize an empty master DataFrame\n",
    "master_questions_df = pd.DataFrame(columns=[\n",
    "    'question_id', 'question_text', 'correct_answer',\n",
    "    'option1', 'option2', 'option3',\n",
    "    'category_id', 'difficulty'\n",
    "])\n",
    "\n",
    "\n"
   ]
  },
  {
   "cell_type": "code",
   "execution_count": 62,
   "metadata": {},
   "outputs": [
    {
     "name": "stdout",
     "output_type": "stream",
     "text": [
      "[WARNING] Rate limit hit (429). Waiting 5 seconds before retrying...\n",
      "[WARNING] Rate limit hit (429). Waiting 5 seconds before retrying...\n"
     ]
    },
    {
     "data": {
      "text/plain": [
       "(1259, 8)"
      ]
     },
     "execution_count": 62,
     "metadata": {},
     "output_type": "execute_result"
    }
   ],
   "source": [
    "url = \"https://opentdb.com/api.php?amount=45&category=11&type=multiple\"\n",
    "\n",
    "for _ in range(3):\n",
    "    master_questions_df = fetch_questions(url, category_id=4, master_df=master_questions_df)\n",
    "\n",
    "master_questions_df.shape"
   ]
  },
  {
   "cell_type": "code",
   "execution_count": 63,
   "metadata": {},
   "outputs": [],
   "source": [
    "master_questions_df.to_csv('questions.csv', index=False, encoding='utf-8')\n"
   ]
  }
 ],
 "metadata": {
  "kernelspec": {
   "display_name": "Python 3",
   "language": "python",
   "name": "python3"
  },
  "language_info": {
   "codemirror_mode": {
    "name": "ipython",
    "version": 3
   },
   "file_extension": ".py",
   "mimetype": "text/x-python",
   "name": "python",
   "nbconvert_exporter": "python",
   "pygments_lexer": "ipython3",
   "version": "3.11.5"
  }
 },
 "nbformat": 4,
 "nbformat_minor": 2
}
